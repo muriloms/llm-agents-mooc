{
 "cells": [
  {
   "cell_type": "code",
   "execution_count": 5,
   "metadata": {},
   "outputs": [],
   "source": [
    "from typing import Dict, List\n",
    "from autogen import Agent,ConversableAgent"
   ]
  },
  {
   "cell_type": "code",
   "execution_count": 9,
   "metadata": {},
   "outputs": [],
   "source": [
    "# Constants for scoring\n",
    "SCORE_KEYWORDS = {\n",
    "    1: [\"awful\", \"horrible\", \"disgusting\"],\n",
    "    2: [\"bad\", \"unpleasant\", \"offensive\"],\n",
    "    3: [\"average\", \"uninspiring\", \"forgettable\"],\n",
    "    4: [\"good\", \"enjoyable\", \"satisfying\"],\n",
    "    5: [\"awesome\", \"incredible\", \"amazing\"]\n",
    "}"
   ]
  },
  {
   "cell_type": "code",
   "execution_count": 8,
   "metadata": {},
   "outputs": [],
   "source": [
    "# Data processing functions\n",
    "def normalize(name: str) -> str:\n",
    "    '''\n",
    "    Normalizes restaurant name by converting to lowercase,\n",
    "    replacing punctuation with space,\n",
    "    and removing extra spaces\n",
    "\n",
    "    Args:\n",
    "    name (str): restaurant name to normalize\n",
    "\n",
    "    Returns:\n",
    "    str: normalized restaurant name\n",
    "    '''\n",
    "    return (name.lower().replace('-',' ').replace('.',' ').replace('  ',' ').strip())"
   ]
  },
  {
   "cell_type": "code",
   "execution_count": null,
   "metadata": {},
   "outputs": [],
   "source": [
    "def fetch_restaurant_data(restaurant_name: str) -> Dict[str, List[str]]:\n",
    "    ''' \n",
    "    Fetches reviews for a specific restaurant from the data file\n",
    "\n",
    "    Args:\n",
    "    restaurant_name (str): name of the restaurant to search for\n",
    "\n",
    "    Returns:\n",
    "    Dict[str, List[str]]: dictionary with restaurant name as key and list of reviews\n",
    "    '''\n",
    "    # Load the restaurant data\n",
    "    try:\n",
    "        with open('restaurant-data.txt','r') as file:\n",
    "            data = file.readlines()\n",
    "    except FileNotFoundError:\n",
    "        raise FileNotFoundError(\"The file 'restaurant-data.txt' was not found\")\n",
    "    \n",
    "    restaurant_data = {}\n",
    "    restaurant_reviews = []\n",
    "    actual_name = None\n",
    "\n",
    "    # Normalize the restaurant name\n",
    "    restaurant_name_normalized = normalize(restaurant_name)\n",
    "\n",
    "    # Parse the reviews\n",
    "    for line in data:\n",
    "        if not line.strip():\n",
    "            continue\n",
    "\n",
    "        # Normalize the line\n",
    "        line_normalized = normalize(line)\n",
    "\n",
    "        if line_normalized.startswith(restaurant_name_normalized):\n",
    "            actual_name = line.split(\".\")[0].strip()\n",
    "            restaurant_reviews.append(line.strip())\n",
    "\n",
    "    # Fetch reviews for the given restaurant name\n",
    "    if actual_name and restaurant_reviews:\n",
    "        restaurant_data[actual_name] = restaurant_reviews\n",
    "    else:\n",
    "        # Return an empty list if no reviews found\n",
    "        restaurant_data[actual_name] = [] \n",
    "\n",
    "    return restaurant_data"
   ]
  },
  {
   "cell_type": "code",
   "execution_count": 6,
   "metadata": {},
   "outputs": [],
   "source": [
    "agent = ConversableAgent(name=\"data_fetch_agent\")"
   ]
  },
  {
   "cell_type": "code",
   "execution_count": 7,
   "metadata": {},
   "outputs": [
    {
     "ename": "AttributeError",
     "evalue": "'function' object has no attribute 'items'",
     "output_type": "error",
     "traceback": [
      "\u001b[1;31m---------------------------------------------------------------------------\u001b[0m",
      "\u001b[1;31mAttributeError\u001b[0m                            Traceback (most recent call last)",
      "Cell \u001b[1;32mIn[7], line 1\u001b[0m\n\u001b[1;32m----> 1\u001b[0m \u001b[43magent\u001b[49m\u001b[38;5;241;43m.\u001b[39;49m\u001b[43mregister_function\u001b[49m\u001b[43m(\u001b[49m\u001b[43mfetch_restaurant_data\u001b[49m\u001b[43m)\u001b[49m\n",
      "File \u001b[1;32mc:\\Users\\murilo.silvestrini\\.conda\\envs\\llm-agent\\lib\\site-packages\\autogen\\agentchat\\conversable_agent.py:2487\u001b[0m, in \u001b[0;36mConversableAgent.register_function\u001b[1;34m(self, function_map)\u001b[0m\n\u001b[0;32m   2481\u001b[0m \u001b[38;5;28;01mdef\u001b[39;00m \u001b[38;5;21mregister_function\u001b[39m(\u001b[38;5;28mself\u001b[39m, function_map: Dict[\u001b[38;5;28mstr\u001b[39m, Union[Callable, \u001b[38;5;28;01mNone\u001b[39;00m]]):\n\u001b[0;32m   2482\u001b[0m \u001b[38;5;250m    \u001b[39m\u001b[38;5;124;03m\"\"\"Register functions to the agent.\u001b[39;00m\n\u001b[0;32m   2483\u001b[0m \n\u001b[0;32m   2484\u001b[0m \u001b[38;5;124;03m    Args:\u001b[39;00m\n\u001b[0;32m   2485\u001b[0m \u001b[38;5;124;03m        function_map: a dictionary mapping function names to functions. if function_map[name] is None, the function will be removed from the function_map.\u001b[39;00m\n\u001b[0;32m   2486\u001b[0m \u001b[38;5;124;03m    \"\"\"\u001b[39;00m\n\u001b[1;32m-> 2487\u001b[0m     \u001b[38;5;28;01mfor\u001b[39;00m name, func \u001b[38;5;129;01min\u001b[39;00m \u001b[43mfunction_map\u001b[49m\u001b[38;5;241;43m.\u001b[39;49m\u001b[43mitems\u001b[49m():\n\u001b[0;32m   2488\u001b[0m         \u001b[38;5;28mself\u001b[39m\u001b[38;5;241m.\u001b[39m_assert_valid_name(name)\n\u001b[0;32m   2489\u001b[0m         \u001b[38;5;28;01mif\u001b[39;00m func \u001b[38;5;129;01mis\u001b[39;00m \u001b[38;5;28;01mNone\u001b[39;00m \u001b[38;5;129;01mand\u001b[39;00m name \u001b[38;5;129;01mnot\u001b[39;00m \u001b[38;5;129;01min\u001b[39;00m \u001b[38;5;28mself\u001b[39m\u001b[38;5;241m.\u001b[39m_function_map\u001b[38;5;241m.\u001b[39mkeys():\n",
      "\u001b[1;31mAttributeError\u001b[0m: 'function' object has no attribute 'items'"
     ]
    }
   ],
   "source": [
    "agent.register_function(fetch_restaurant_data)"
   ]
  },
  {
   "cell_type": "code",
   "execution_count": null,
   "metadata": {},
   "outputs": [],
   "source": []
  }
 ],
 "metadata": {
  "kernelspec": {
   "display_name": "llm-agent",
   "language": "python",
   "name": "python3"
  },
  "language_info": {
   "codemirror_mode": {
    "name": "ipython",
    "version": 3
   },
   "file_extension": ".py",
   "mimetype": "text/x-python",
   "name": "python",
   "nbconvert_exporter": "python",
   "pygments_lexer": "ipython3",
   "version": "3.10.15"
  }
 },
 "nbformat": 4,
 "nbformat_minor": 2
}
